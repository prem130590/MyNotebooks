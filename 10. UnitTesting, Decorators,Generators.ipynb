{
 "cells": [
  {
   "cell_type": "markdown",
   "metadata": {},
   "source": [
    "Pylint and UnitTesting: Pylint is used to check the quality of the code. \n",
    "1.  syntax to install pylint: pip install pylint\n",
    "\n",
    "2.  syntax to run : pylint filename.py"
   ]
  },
  {
   "cell_type": "markdown",
   "metadata": {},
   "source": [
    "UnitTesting:\n",
    "import Unittest"
   ]
  },
  {
   "cell_type": "markdown",
   "metadata": {},
   "source": [
    "Unit Testing the python test case."
   ]
  },
  {
   "cell_type": "markdown",
   "metadata": {},
   "source": [
    "#######################################################################################################################"
   ]
  },
  {
   "cell_type": "markdown",
   "metadata": {},
   "source": [
    "Decorators:"
   ]
  },
  {
   "cell_type": "markdown",
   "metadata": {},
   "source": [
    "Python Decorators allows us to add extra functionality to an already existing function.\n",
    "Why Decorators : \n",
    "1. Imagine we have a function . Now we want to add some additional functionality to that code. If we want to achieve this we need to write the additional functionality in the same old function. Now of what if you want to have the same old function with out this new functionality. Again we have to manually remove the lines of code that is been added newly. \n",
    "2. To avoid this adding/deleting lines of code manually we make use of Decorators. \n",
    "3. Decorators are created by placing a '@' at the top of a function and the function is called a 'Decorator Function'. "
   ]
  },
  {
   "cell_type": "code",
   "execution_count": 1,
   "metadata": {},
   "outputs": [],
   "source": [
    "#Ex: This is a simple addition function\n",
    "def simple_addition(a=10,b=10):\n",
    "    print(a+b)"
   ]
  },
  {
   "cell_type": "code",
   "execution_count": 2,
   "metadata": {},
   "outputs": [
    {
     "name": "stdout",
     "output_type": "stream",
     "text": [
      "10\n"
     ]
    }
   ],
   "source": [
    "simple_addition(5,5)"
   ]
  },
  {
   "cell_type": "code",
   "execution_count": 3,
   "metadata": {},
   "outputs": [],
   "source": [
    "#Ex of a decorator function:\n",
    "\n",
    "def dector_function(some_func):\n",
    "    \n",
    "    def example_func():\n",
    "        print(\"some code before decoration!\")\n",
    "        \n",
    "        simple_addition()\n",
    "    \n",
    "        print(\"some code after decoration\")\n",
    "    \n",
    "    return example_func"
   ]
  },
  {
   "cell_type": "code",
   "execution_count": 4,
   "metadata": {},
   "outputs": [
    {
     "data": {
      "text/plain": [
       "<function __main__.dector_function.<locals>.example_func()>"
      ]
     },
     "execution_count": 4,
     "metadata": {},
     "output_type": "execute_result"
    }
   ],
   "source": [
    "dector_function(simple_addition)"
   ]
  },
  {
   "cell_type": "code",
   "execution_count": 5,
   "metadata": {},
   "outputs": [],
   "source": [
    "new_decorated_func = dector_function(simple_addition)"
   ]
  },
  {
   "cell_type": "code",
   "execution_count": 6,
   "metadata": {},
   "outputs": [
    {
     "name": "stdout",
     "output_type": "stream",
     "text": [
      "some code before decoration!\n",
      "20\n",
      "some code after decoration\n"
     ]
    }
   ],
   "source": [
    "new_decorated_func()"
   ]
  },
  {
   "cell_type": "markdown",
   "metadata": {},
   "source": [
    "This is how the decorator function works . You have the original function . you want to add some extra code to the original function.\n",
    "Here in our example , we have simple_addition as our original function. \n",
    "it is passed as an argument to one other function which will does this addition of addtional code. \n",
    "decorator_function takes the original function as argument, executes some additional lines of code and also executes the original function also and returns some function which we can assign to a variable and call that returned function and get the desired output."
   ]
  },
  {
   "cell_type": "markdown",
   "metadata": {},
   "source": [
    "The same logic is how decorators works with the help of @.\n",
    "we need to specify @function_name of the decorator function which will decorate our original function."
   ]
  },
  {
   "cell_type": "code",
   "execution_count": 7,
   "metadata": {},
   "outputs": [],
   "source": [
    "@dector_function\n",
    "def simple_addition():\n",
    "    a,b =10\n",
    "    print(a+b)   "
   ]
  },
  {
   "cell_type": "markdown",
   "metadata": {},
   "source": [
    "Generators: Allow us to generate a sequence of elements and hold that particular value until its execution than holding all values in memory."
   ]
  },
  {
   "cell_type": "code",
   "execution_count": 8,
   "metadata": {},
   "outputs": [],
   "source": [
    "def gen_cubes(n):\n",
    "    list1= []\n",
    "    for i in range(n):\n",
    "        list1.append(i**3)\n",
    "    return list1    \n"
   ]
  },
  {
   "cell_type": "code",
   "execution_count": 9,
   "metadata": {},
   "outputs": [
    {
     "data": {
      "text/plain": [
       "[0, 1, 8, 27, 64]"
      ]
     },
     "execution_count": 9,
     "metadata": {},
     "output_type": "execute_result"
    }
   ],
   "source": [
    "gen_cubes(5)"
   ]
  },
  {
   "cell_type": "code",
   "execution_count": 10,
   "metadata": {},
   "outputs": [],
   "source": [
    "def gen_cubes_genreator(n):\n",
    "    for i in range(n):\n",
    "        yield i**3\n",
    "        \n",
    "        "
   ]
  },
  {
   "cell_type": "code",
   "execution_count": 11,
   "metadata": {},
   "outputs": [
    {
     "data": {
      "text/plain": [
       "<generator object gen_cubes_genreator at 0x000002552B431580>"
      ]
     },
     "execution_count": 11,
     "metadata": {},
     "output_type": "execute_result"
    }
   ],
   "source": [
    "gen_cubes_genreator(5)"
   ]
  },
  {
   "cell_type": "code",
   "execution_count": 12,
   "metadata": {},
   "outputs": [
    {
     "data": {
      "text/plain": [
       "[0, 1, 8, 27, 64]"
      ]
     },
     "execution_count": 12,
     "metadata": {},
     "output_type": "execute_result"
    }
   ],
   "source": [
    "list(gen_cubes_genreator(5))"
   ]
  },
  {
   "cell_type": "code",
   "execution_count": 21,
   "metadata": {},
   "outputs": [],
   "source": [
    "def gen_fib(n):\n",
    "    a=1;b=1\n",
    "    list1= []\n",
    "    for i in range(n):\n",
    "        list1.append(a)\n",
    "        print(list1)\n",
    "        print(f\"{a} ,\")\n",
    "        a,b = b,a+b\n",
    "        \n",
    "    return list1    \n",
    "        "
   ]
  },
  {
   "cell_type": "code",
   "execution_count": 22,
   "metadata": {},
   "outputs": [
    {
     "name": "stdout",
     "output_type": "stream",
     "text": [
      "[1]\n",
      "1 ,\n",
      "[1, 1]\n",
      "1 ,\n",
      "[1, 1, 2]\n",
      "2 ,\n",
      "[1, 1, 2, 3]\n",
      "3 ,\n",
      "[1, 1, 2, 3, 5]\n",
      "5 ,\n"
     ]
    }
   ],
   "source": [
    "new_list = gen_fib(5)"
   ]
  },
  {
   "cell_type": "markdown",
   "metadata": {},
   "source": [
    "The above is an example of printing fibonocci series. Instead of printing or appending to a list, we can use generator function to save memory ."
   ]
  },
  {
   "cell_type": "code",
   "execution_count": 23,
   "metadata": {},
   "outputs": [
    {
     "data": {
      "text/plain": [
       "[1, 1, 2, 3, 5]"
      ]
     },
     "execution_count": 23,
     "metadata": {},
     "output_type": "execute_result"
    }
   ],
   "source": [
    "new_list."
   ]
  },
  {
   "cell_type": "code",
   "execution_count": 27,
   "metadata": {},
   "outputs": [],
   "source": [
    "#Ex for generator function.\n",
    "def generator_fib(n):\n",
    "    a = b = 1\n",
    "    for i in range(n):\n",
    "        yield a \n",
    "        a,b = b,a+b\n",
    "        "
   ]
  },
  {
   "cell_type": "code",
   "execution_count": 28,
   "metadata": {},
   "outputs": [
    {
     "data": {
      "text/plain": [
       "<generator object generator_fib at 0x000002552E041120>"
      ]
     },
     "execution_count": 28,
     "metadata": {},
     "output_type": "execute_result"
    }
   ],
   "source": [
    "generator_fib(10)"
   ]
  },
  {
   "cell_type": "code",
   "execution_count": 32,
   "metadata": {},
   "outputs": [],
   "source": [
    "new = list(generator_fib(10))"
   ]
  },
  {
   "cell_type": "code",
   "execution_count": 34,
   "metadata": {},
   "outputs": [
    {
     "data": {
      "text/plain": [
       "[1, 1, 2, 3, 5, 8, 13, 21, 34, 55]"
      ]
     },
     "execution_count": 34,
     "metadata": {},
     "output_type": "execute_result"
    }
   ],
   "source": [
    "new"
   ]
  },
  {
   "cell_type": "code",
   "execution_count": 33,
   "metadata": {},
   "outputs": [
    {
     "data": {
      "text/plain": [
       "[1, 1, 3, 5, 13, 21, 55]"
      ]
     },
     "execution_count": 33,
     "metadata": {},
     "output_type": "execute_result"
    }
   ],
   "source": [
    "[x for x in new if x%2!=0]"
   ]
  },
  {
   "cell_type": "markdown",
   "metadata": {},
   "source": [
    "The above is list comprehension to print only the odd numbers in the fibonocci list."
   ]
  },
  {
   "cell_type": "code",
   "execution_count": null,
   "metadata": {},
   "outputs": [],
   "source": []
  }
 ],
 "metadata": {
  "kernelspec": {
   "display_name": "Python 3",
   "language": "python",
   "name": "python3"
  },
  "language_info": {
   "codemirror_mode": {
    "name": "ipython",
    "version": 3
   },
   "file_extension": ".py",
   "mimetype": "text/x-python",
   "name": "python",
   "nbconvert_exporter": "python",
   "pygments_lexer": "ipython3",
   "version": "3.8.3"
  }
 },
 "nbformat": 4,
 "nbformat_minor": 4
}
