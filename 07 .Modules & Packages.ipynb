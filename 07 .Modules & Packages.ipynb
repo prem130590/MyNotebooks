{
 "cells": [
  {
   "cell_type": "markdown",
   "metadata": {},
   "source": [
    "Modules and Packages:"
   ]
  },
  {
   "cell_type": "markdown",
   "metadata": {},
   "source": [
    "PYpi is a open source repository which has lot of packages available which we can use in our code."
   ]
  },
  {
   "cell_type": "markdown",
   "metadata": {},
   "source": [
    "we can install pypi in cmd using pip install cmd.\n",
    "1. pip install 'packagename'\n",
    "2. Ex: pip install colorama"
   ]
  },
  {
   "cell_type": "code",
   "execution_count": 2,
   "metadata": {},
   "outputs": [
    {
     "name": "stdout",
     "output_type": "stream",
     "text": [
      "\u001b[31msome RED text\n"
     ]
    }
   ],
   "source": [
    "from colorama import Fore\n",
    "print(Fore.RED + 'some RED text')"
   ]
  },
  {
   "cell_type": "code",
   "execution_count": 3,
   "metadata": {},
   "outputs": [
    {
     "name": "stdout",
     "output_type": "stream",
     "text": [
      "\u001b[32mSwitch to Green\n"
     ]
    }
   ],
   "source": [
    "print(Fore.GREEN + 'Switch to Green')"
   ]
  },
  {
   "cell_type": "markdown",
   "metadata": {},
   "source": [
    "for working with Excel , we have package 'openpyxl'\n",
    "we can install this package using the cmd pip install openpyxl.\n",
    "post install , we can import this package and start using in our code.\n",
    "import openpyxl "
   ]
  },
  {
   "cell_type": "markdown",
   "metadata": {},
   "source": [
    "Modules: It is .py script which you will call in another .py script\n",
    "Packages are nothing but a collection of modules.    "
   ]
  },
  {
   "cell_type": "markdown",
   "metadata": {},
   "source": [
    "In a directory where we have n number of .py scripts , for python to treat it as a package , there should ebe a __init__.py file in the file . When __init__.py file is present , then the directory will be considered as a package."
   ]
  },
  {
   "cell_type": "markdown",
   "metadata": {},
   "source": [
    "1.  from Mainpackage import main_module \n",
    "2.  from Mainpackage.subpackage import sub_module\n",
    "\n",
    "main_module.first_method()\n",
    "sub_module.sub_method()"
   ]
  },
  {
   "cell_type": "markdown",
   "metadata": {},
   "source": [
    "Here Mainpackage is the main directory inside which we have a subdirectory. in both the directories we will have __init__.py file for python to treat them as packages and not just directories.\n",
    "\n",
    "main_module.py is present in Mainpackage and sub_module.py is present in subpackage.\n",
    "\n",
    "we are importing main_module from Mainpackage using : from Mainpackage import main_module\n",
    "\n",
    "To import sub package, we need to import subpackage from Mainpackage and import sub_module\n",
    "using: from Mainpackage.subpackage import sub_module\n",
    "\n",
    "then we can call the functions/methods present inside packages using below:\n",
    "\n",
    "1.  main_module.some_method_in_mainmodule()\n",
    "2.  sub_module.some_method_in_submodule()"
   ]
  },
  {
   "cell_type": "markdown",
   "metadata": {},
   "source": [
    "__name__ == '__main__' :\n",
    "This is used to check if the python code(.py file) is run directly in the cmd line. "
   ]
  },
  {
   "cell_type": "code",
   "execution_count": null,
   "metadata": {},
   "outputs": [],
   "source": []
  },
  {
   "cell_type": "code",
   "execution_count": null,
   "metadata": {},
   "outputs": [],
   "source": []
  }
 ],
 "metadata": {
  "kernelspec": {
   "display_name": "Python 3",
   "language": "python",
   "name": "python3"
  },
  "language_info": {
   "codemirror_mode": {
    "name": "ipython",
    "version": 3
   },
   "file_extension": ".py",
   "mimetype": "text/x-python",
   "name": "python",
   "nbconvert_exporter": "python",
   "pygments_lexer": "ipython3",
   "version": "3.7.6"
  }
 },
 "nbformat": 4,
 "nbformat_minor": 4
}
