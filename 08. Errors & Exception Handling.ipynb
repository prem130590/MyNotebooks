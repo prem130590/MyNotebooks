{
 "cells": [
  {
   "cell_type": "markdown",
   "metadata": {},
   "source": [
    "Error handling is done using \n",
    "1. try : our code goes under this.. if some error happens it goes to except block\n",
    "2. except :\n",
    "3. finally: -> it is always executed whether or not an error is occured.."
   ]
  },
  {
   "cell_type": "markdown",
   "metadata": {},
   "source": [
    "if we dont do error handling, the script ends or terminates and comes out. It doesnt execute the other blocks of code.. The advantage of error handling is that even if an error occurs , it can move to next block of code and execute them."
   ]
  },
  {
   "cell_type": "code",
   "execution_count": 1,
   "metadata": {},
   "outputs": [
    {
     "ename": "ZeroDivisionError",
     "evalue": "division by zero",
     "output_type": "error",
     "traceback": [
      "\u001b[1;31m---------------------------------------------------------------------------\u001b[0m",
      "\u001b[1;31mZeroDivisionError\u001b[0m                         Traceback (most recent call last)",
      "\u001b[1;32m<ipython-input-1-a1afa114128b>\u001b[0m in \u001b[0;36m<module>\u001b[1;34m\u001b[0m\n\u001b[0;32m      1\u001b[0m \u001b[1;31m#ex:\u001b[0m\u001b[1;33m\u001b[0m\u001b[1;33m\u001b[0m\u001b[1;33m\u001b[0m\u001b[0m\n\u001b[1;32m----> 2\u001b[1;33m \u001b[0ma\u001b[0m \u001b[1;33m=\u001b[0m \u001b[1;36m10\u001b[0m\u001b[1;33m/\u001b[0m\u001b[1;36m0\u001b[0m\u001b[1;33m\u001b[0m\u001b[1;33m\u001b[0m\u001b[0m\n\u001b[0m\u001b[0;32m      3\u001b[0m \u001b[0mprint\u001b[0m\u001b[1;33m(\u001b[0m\u001b[1;34m'This will not be executed since error occurs in the previous line'\u001b[0m\u001b[1;33m)\u001b[0m\u001b[1;33m\u001b[0m\u001b[1;33m\u001b[0m\u001b[0m\n",
      "\u001b[1;31mZeroDivisionError\u001b[0m: division by zero"
     ]
    }
   ],
   "source": [
    "#ex:\n",
    "a = 10/0\n",
    "print('This will not be executed since error occurs in the previous line')"
   ]
  },
  {
   "cell_type": "code",
   "execution_count": 3,
   "metadata": {},
   "outputs": [
    {
     "name": "stdout",
     "output_type": "stream",
     "text": [
      "i m in except block since try failed\n",
      "i will always get printed!!\n",
      "Im outside in 0 level indendation\n"
     ]
    }
   ],
   "source": [
    "try:\n",
    "    a = 10/0\n",
    "    print('i m in try block')\n",
    "except:\n",
    "    print('i m in except block since try failed')\n",
    "finally:\n",
    "    print('i will always get printed!!')\n",
    "    \n",
    "print('Im outside in 0 level indendation')    "
   ]
  },
  {
   "cell_type": "markdown",
   "metadata": {},
   "source": [
    "if you see in the above example, even though try failed with error it was able to execute the remaining lines of code, even the last print statement."
   ]
  },
  {
   "cell_type": "code",
   "execution_count": 7,
   "metadata": {},
   "outputs": [
    {
     "name": "stdout",
     "output_type": "stream",
     "text": [
      "Please enter a number: q\n",
      "Number entered is not an integer. Please try again!\n",
      "I execute always!!!\n",
      "Please enter a number: w\n",
      "Number entered is not an integer. Please try again!\n",
      "I execute always!!!\n",
      "Please enter a number: r\n",
      "Number entered is not an integer. Please try again!\n",
      "I execute always!!!\n",
      "Please enter a number: 10\n",
      "Thank You\n",
      "I execute always!!!\n"
     ]
    }
   ],
   "source": [
    "#Ex2:\n",
    "# A program to get the input from the user until the integer is entered.\n",
    "\n",
    "while True:\n",
    "\n",
    "    try:\n",
    "        result = int(input(\"Please enter a number: \"))\n",
    "    except:\n",
    "        print(\"Number entered is not an integer. Please try again!\")\n",
    "        continue\n",
    "    else:\n",
    "        print('Thank You')\n",
    "        break\n",
    "    finally:\n",
    "        print('I execute always!!!')\n",
    "    \n",
    "\n",
    "\n",
    "\n",
    "\n"
   ]
  },
  {
   "cell_type": "markdown",
   "metadata": {},
   "source": [
    "The above is an example of using while with try,except,finally."
   ]
  },
  {
   "cell_type": "code",
   "execution_count": null,
   "metadata": {},
   "outputs": [],
   "source": []
  }
 ],
 "metadata": {
  "kernelspec": {
   "display_name": "Python 3",
   "language": "python",
   "name": "python3"
  },
  "language_info": {
   "codemirror_mode": {
    "name": "ipython",
    "version": 3
   },
   "file_extension": ".py",
   "mimetype": "text/x-python",
   "name": "python",
   "nbconvert_exporter": "python",
   "pygments_lexer": "ipython3",
   "version": "3.7.6"
  }
 },
 "nbformat": 4,
 "nbformat_minor": 4
}
